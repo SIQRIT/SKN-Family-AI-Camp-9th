{
 "cells": [
  {
   "cell_type": "markdown",
   "metadata": {},
   "source": [
    "### 예외처리"
   ]
  },
  {
   "cell_type": "code",
   "execution_count": 3,
   "metadata": {},
   "outputs": [],
   "source": [
    "class NotMyTeacher(Exception):\n",
    "    pass"
   ]
  },
  {
   "cell_type": "code",
   "execution_count": null,
   "metadata": {},
   "outputs": [
    {
     "name": "stdout",
     "output_type": "stream",
     "text": [
      "예외가 발생했습니다아아아악!!!!\n",
      "네~ 중단은 안됐네YO!\n"
     ]
    }
   ],
   "source": [
    "teacher_name = input('당신의 선생님의 성함은 무엇입니까 ?')\n",
    "\n",
    "# result = \"네, 맞워요!\" if teacher_name == \"다람쥐\" else None\n",
    "# if result is None:\n",
    "#     raise NotMyTeacher(\"고오얀놈....!\")\n",
    "\n",
    "def check_teacher(teacher_name):\n",
    "    if teacher_name == '다람쥐':\n",
    "        print('네, 맞워요!')\n",
    "    else:\n",
    "        raise NotMyTeacher('고오얀놈....!')\n",
    "\n",
    "# try는 예외가 발생할 경우에만 실행\n",
    "try:\n",
    "    check_teacher('호랑이')\n",
    "    check_teacher('다람쥐')\n",
    "    print('이건 출력되지 않습니다아아아악!!!!')\n",
    "\n",
    "# except는 특수한 경우에만 실행\n",
    "except:\n",
    "    print('예외가 발생했습니다아아아악!!!!')\n",
    "\n",
    "print('네~ 중단은 안됐네YO!')"
   ]
  },
  {
   "cell_type": "code",
   "execution_count": 26,
   "metadata": {},
   "outputs": [
    {
     "name": "stdout",
     "output_type": "stream",
     "text": [
      "하하하하, 인덱싱 범위를 초과했구나!\n",
      "데프픗, 어쨌던 고생은 한 데샤아아아앗!!!!\n"
     ]
    }
   ],
   "source": [
    "try:\n",
    "    test_list = [2024, 12, 26]\n",
    "    print(test_list[100])\n",
    "\n",
    "    print(2024 / 0)\n",
    "\n",
    "except IndexError:\n",
    "    print('하하하하, 인덱싱 범위를 초과했구나!')\n",
    "    \n",
    "except ZeroDivisionError:\n",
    "    print('하하하하, 0으로 나누는 우를 범했구나!')\n",
    "\n",
    "print('데프픗, 어쨌던 고생은 한 데샤아아아앗!!!!')"
   ]
  },
  {
   "cell_type": "code",
   "execution_count": 33,
   "metadata": {},
   "outputs": [
    {
     "name": "stdout",
     "output_type": "stream",
     "text": [
      "하하하하, 인덱싱 범위를 초과했구나!\n",
      "finally는 언제 실행이 될까요 ?\n",
      "데프픗, 어쨌던 고생은 한 데샤아아아앗!!!!\n"
     ]
    }
   ],
   "source": [
    "# try는 예외가 발생할 경우에만 실행\n",
    "try:\n",
    "    idx = int(input('index 숫자: '))\n",
    "    test_list = [2024, 12, 26]\n",
    "    print(test_list[idx])\n",
    "\n",
    "    num = int(input('나누는 수: '))\n",
    "    print(2024 / num)\n",
    "\n",
    "# except는 특수한 경우에만 실행\n",
    "except IndexError:\n",
    "    print('하하하하, 인덱싱 범위를 초과했구나!')\n",
    "\n",
    "except ZeroDivisionError:\n",
    "    print('하하하하, 0으로 나누는 우를 범했구나!')\n",
    "\n",
    "except ValueError:\n",
    "    print('숫자나 입력하라구~')\n",
    "\n",
    "# 예외가 발생하지 않았을 경우에만 실행 (try 구문 내 코드가 정상 동작했을 때)\n",
    "else:\n",
    "    print('else는 언제 실행이 될까요 ?')\n",
    "\n",
    "# finally는 정상이나 비정상이나 항상 동작함작함\n",
    "finally:\n",
    "    print('finally는 언제 실행이 될까요 ?')\n",
    "\n",
    "print('데프픗, 어쨌던 고생은 한 데샤아아아앗!!!!')"
   ]
  },
  {
   "cell_type": "code",
   "execution_count": 32,
   "metadata": {},
   "outputs": [
    {
     "ename": "ValueError",
     "evalue": "invalid literal for int() with base 10: 'ㅁㄴㅇㄹ'",
     "output_type": "error",
     "traceback": [
      "\u001b[1;31m---------------------------------------------------------------------------\u001b[0m",
      "\u001b[1;31mValueError\u001b[0m                                Traceback (most recent call last)",
      "Cell \u001b[1;32mIn[32], line 1\u001b[0m\n\u001b[1;32m----> 1\u001b[0m number \u001b[38;5;241m=\u001b[39m \u001b[38;5;28;43mint\u001b[39;49m\u001b[43m(\u001b[49m\u001b[38;5;28;43minput\u001b[39;49m\u001b[43m(\u001b[49m\u001b[38;5;124;43m'\u001b[39;49m\u001b[38;5;124;43m값을 입력해주삼: \u001b[39;49m\u001b[38;5;124;43m'\u001b[39;49m\u001b[43m)\u001b[49m\u001b[43m)\u001b[49m\n\u001b[0;32m      3\u001b[0m \u001b[38;5;28;01mtry\u001b[39;00m:\n\u001b[0;32m      4\u001b[0m     \u001b[38;5;28;01mif\u001b[39;00m number \u001b[38;5;241m%\u001b[39m \u001b[38;5;241m2\u001b[39m \u001b[38;5;241m==\u001b[39m \u001b[38;5;241m0\u001b[39m \u001b[38;5;129;01mand\u001b[39;00m number \u001b[38;5;241m%\u001b[39m \u001b[38;5;241m3\u001b[39m \u001b[38;5;241m==\u001b[39m \u001b[38;5;241m0\u001b[39m:\n",
      "\u001b[1;31mValueError\u001b[0m: invalid literal for int() with base 10: 'ㅁㄴㅇㄹ'"
     ]
    }
   ],
   "source": [
    "number = int(input('값을 입력해주삼: '))\n",
    "\n",
    "try:\n",
    "    if number % 2 == 0 and number % 3 == 0:\n",
    "        print('6의 배수입니다.')\n",
    "        \n",
    "except ValueError:\n",
    "    print('숫자나 입력하라구~')"
   ]
  },
  {
   "cell_type": "markdown",
   "metadata": {},
   "source": [
    "---\n",
    "\n",
    "### 실습"
   ]
  },
  {
   "cell_type": "markdown",
   "metadata": {},
   "source": [
    "### **문제 1: 모든 예외 처리**\n",
    "\n",
    "다람쥐는 파일에서 데이터를 읽으려고 하지만, 파일이 없을 경우 프로그램이 중단되지 않도록 처리하고 싶습니다.\n",
    "\n",
    "1. `data.txt` 파일을 읽으려고 시도하세요.\n",
    "2. 파일이 없을 경우, `\"파일이 존재하지 않습니다.\"`를 출력하세요.\n",
    "3. 파일이 존재하면 파일 내용을 출력하세요."
   ]
  },
  {
   "cell_type": "code",
   "execution_count": 78,
   "metadata": {},
   "outputs": [
    {
     "name": "stdout",
     "output_type": "stream",
     "text": [
      "파일이 존재하지 않습니다.\n"
     ]
    }
   ],
   "source": [
    "data = None\n",
    "\n",
    "try:\n",
    "    data = open('data.txt', 'r', encoding = 'utf-8')\n",
    "    print(data.read())\n",
    "\n",
    "except FileNotFoundError:\n",
    "    print('파일이 존재하지 않습니다.')\n",
    "\n",
    "finally:\n",
    "    if data:\n",
    "        data.close()"
   ]
  },
  {
   "cell_type": "markdown",
   "metadata": {},
   "source": [
    "### **문제 2: 특정 예외 처리**\n",
    "\n",
    "다람쥐는 사용자에게 나이를 입력받아 성인인지 확인하려고 합니다.\n",
    "\n",
    "1. 사용자로부터 나이를 입력받아 정수로 변환하세요.\n",
    "2. 입력값이 숫자가 아닐 경우, `\"숫자를 입력해야 합니다.\"`를 출력하세요.\n",
    "3. 숫자가 올바르게 입력되면 나이가 19 이상인지 확인하고, 19 이상이면 `\"성인입니다.\"`, 그렇지 않으면 `\"미성년자입니다.\"`를 출력하세요."
   ]
  },
  {
   "cell_type": "code",
   "execution_count": 59,
   "metadata": {},
   "outputs": [
    {
     "name": "stdout",
     "output_type": "stream",
     "text": [
      "숫자를 입력해야 합니다.\n"
     ]
    }
   ],
   "source": [
    "try:\n",
    "    user_age = int(input('나이를 입력해주세요: '))\n",
    "    print('성인입니다.') if user_age >= 19 else print('미성년자입니다.')\n",
    "\n",
    "except ValueError:\n",
    "    print('숫자를 입력해야 합니다.')"
   ]
  },
  {
   "cell_type": "markdown",
   "metadata": {},
   "source": [
    "### **문제 3: 특수 예외 상황과 오류 변수 사용**\n",
    "\n",
    "다람쥐는 숫자 두 개를 입력받아 나누기를 수행하려고 합니다.\n",
    "\n",
    "1. 사용자로부터 두 숫자를 입력받아 나누기를 수행하세요.\n",
    "2. 첫 번째 숫자가 0으로 나누기를 시도하면 `\"0으로 나눌 수 없습니다.\"`를 출력하세요.\n",
    "3. 입력값이 숫자가 아니면 `\"숫자를 입력해야 합니다.\"`를 출력하세요.\n",
    "4. 오류 메시지를 출력할 때 발생한 오류 내용을 함께 출력하세요."
   ]
  },
  {
   "cell_type": "code",
   "execution_count": 65,
   "metadata": {},
   "outputs": [
    {
     "name": "stdout",
     "output_type": "stream",
     "text": [
      "숫자를 입력해야 합니다. invalid literal for int() with base 10: 'asdf'\n"
     ]
    }
   ],
   "source": [
    "try:\n",
    "    num_1 = int(input('첫 번째 숫자를 입력해주세요: '))\n",
    "    num_2 = int(input('두 번째 숫자를 입력해주세요: '))\n",
    "    print(num_1 / num_2)\n",
    "\n",
    "except ZeroDivisionError as n:\n",
    "    print('0으로 나눌 수 없습니다', n)\n",
    "\n",
    "except ValueError as n:\n",
    "    print('숫자를 입력해야 합니다.', n)\n"
   ]
  },
  {
   "cell_type": "markdown",
   "metadata": {},
   "source": [
    "### **문제 4: finally 블럭**\n",
    "\n",
    "다람쥐는 프로그램 실행 후 파일 자원을 반드시 정리해야 합니다.\n",
    "\n",
    "1. `log.txt` 파일을 읽으려고 시도하세요.\n",
    "2. 파일을 여는 중 예외가 발생할 경우, `\"파일을 열 수 없습니다.\"`를 출력하세요.\n",
    "3. 예외 발생 여부와 상관없이 파일 자원을 정리하는 메시지 `\"파일 자원 정리 완료\"`를 출력하세요."
   ]
  },
  {
   "cell_type": "code",
   "execution_count": 79,
   "metadata": {},
   "outputs": [
    {
     "name": "stdout",
     "output_type": "stream",
     "text": [
      "파일을 열 수 없습니다. [Errno 2] No such file or directory: 'log.txt'\n",
      "파일 자원 정리 완료\n"
     ]
    }
   ],
   "source": [
    "log = None\n",
    "\n",
    "try:\n",
    "    log = open('log.txt', 'r', encoding = 'utf-8')\n",
    "    print(log.read())\n",
    "\n",
    "    # with open('log.txt', 'r', encoding = 'utf-8') as log:\n",
    "    #     print(log.read())\n",
    "\n",
    "except FileNotFoundError as n:\n",
    "    print('파일을 열 수 없습니다.', n)\n",
    "\n",
    "finally:\n",
    "    if log:\n",
    "        log.close()\n",
    "    print('파일 자원 정리 완료')"
   ]
  },
  {
   "cell_type": "markdown",
   "metadata": {},
   "source": [
    "### **문제 5: try-else 블럭**\n",
    "\n",
    "다람쥐는 사용자로부터 숫자를 입력받아 2로 나눈 결과를 출력하려고 합니다.\n",
    "\n",
    "1. 사용자로부터 숫자를 입력받아 정수로 변환하세요.\n",
    "2. 입력값이 숫자가 아닐 경우 `\"숫자를 입력해야 합니다.\"`를 출력하세요.\n",
    "3. 숫자가 올바르게 입력되면 입력값을 2로 나눈 결과를 출력하세요."
   ]
  },
  {
   "cell_type": "code",
   "execution_count": 80,
   "metadata": {},
   "outputs": [
    {
     "name": "stdout",
     "output_type": "stream",
     "text": [
      "숫자를 입력해야 합니다. invalid literal for int() with base 10: 'asdf'\n"
     ]
    }
   ],
   "source": [
    "num = 0\n",
    "\n",
    "try:\n",
    "    numb = int(input('숫자를 입력해주세요: '))\n",
    "\n",
    "except ValueError as n:\n",
    "    print('숫자를 입력해야 합니다.', n)\n",
    "\n",
    "else:\n",
    "    print(numb / 2)"
   ]
  },
  {
   "cell_type": "code",
   "execution_count": null,
   "metadata": {},
   "outputs": [],
   "source": []
  }
 ],
 "metadata": {
  "kernelspec": {
   "display_name": "pystudy_env",
   "language": "python",
   "name": "python3"
  },
  "language_info": {
   "codemirror_mode": {
    "name": "ipython",
    "version": 3
   },
   "file_extension": ".py",
   "mimetype": "text/x-python",
   "name": "python",
   "nbconvert_exporter": "python",
   "pygments_lexer": "ipython3",
   "version": "3.12.8"
  }
 },
 "nbformat": 4,
 "nbformat_minor": 2
}
