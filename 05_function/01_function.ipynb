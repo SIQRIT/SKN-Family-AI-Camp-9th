{
 "cells": [
  {
   "cell_type": "markdown",
   "metadata": {},
   "source": [
    "### 함수\n",
    "\n",
    "#### 함수의 조건\n",
    "1. 파라미터가 있는가? (parameter)\n",
    "2. 리턴값이 있는가? (return value)"
   ]
  },
  {
   "cell_type": "code",
   "execution_count": 33,
   "metadata": {},
   "outputs": [],
   "source": [
    "# 파라미터 X, 리턴값 X\n",
    "\n",
    "def print_greeting():\n",
    "    print('좋은 아침입니다 :) Merry Christmas!')"
   ]
  },
  {
   "cell_type": "code",
   "execution_count": 34,
   "metadata": {},
   "outputs": [
    {
     "name": "stdout",
     "output_type": "stream",
     "text": [
      "좋은 아침입니다 :) Merry Christmas!\n"
     ]
    }
   ],
   "source": [
    "print_greeting()"
   ]
  },
  {
   "cell_type": "code",
   "execution_count": 35,
   "metadata": {},
   "outputs": [],
   "source": [
    "# 파라미터 X, 리턴값 O\n",
    "# '좋은 아침입니다 :) Merry Christmas!' 반환\n",
    "\n",
    "def return_greeting():\n",
    "   return '좋은 아침입니다 :) Merry Christmas!'"
   ]
  },
  {
   "cell_type": "code",
   "execution_count": 39,
   "metadata": {},
   "outputs": [
    {
     "name": "stdout",
     "output_type": "stream",
     "text": [
      "좋은 아침입니다 :) Merry Christmas!\n"
     ]
    }
   ],
   "source": [
    "greeting = return_greeting()\n",
    "print(greeting) # print(return_greeting())과 같다"
   ]
  },
  {
   "cell_type": "code",
   "execution_count": 65,
   "metadata": {},
   "outputs": [],
   "source": [
    "# 파라미터 O, 리턴값 X -> print_greeting()과 같은 기능, 파라미터로 인사할 사람 이름\n",
    "# '(이름)님, 좋은 아침입니다 :) Merry Christmas!'\n",
    "\n",
    "def parameter_greeting(name):\n",
    "    print(f'{name}님, 좋은 아침입니다 :) Merry Christmas!')"
   ]
  },
  {
   "cell_type": "code",
   "execution_count": 66,
   "metadata": {},
   "outputs": [
    {
     "name": "stdout",
     "output_type": "stream",
     "text": [
      "다람쥐님, 좋은 아침입니다 :) Merry Christmas!\n",
      "호랑이님, 좋은 아침입니다 :) Merry Christmas!\n"
     ]
    }
   ],
   "source": [
    "name_squirrel = '다람쥐'            # 구조만 맞으면 변수가 달라도 상관없다.\n",
    "parameter_greeting(name_squirrel)   # 다른 상수 또는 리터럴이 들어가도 된다.\n",
    "\n",
    "name_tiger = '호랑이'\n",
    "parameter_greeting(name_tiger)"
   ]
  },
  {
   "cell_type": "code",
   "execution_count": 76,
   "metadata": {},
   "outputs": [],
   "source": [
    "# 파라미터 O, 리턴값 O -> 파라미터로 인사할 사람 이름\n",
    "# '(이름)님, 좋은 아침입니다 :) Merry Christmas!')\n",
    "\n",
    "def full_greeting(name, time):\n",
    "    return f'{name}님, 좋은 {time}입니다 :) Merry Christmas!'"
   ]
  },
  {
   "cell_type": "code",
   "execution_count": 85,
   "metadata": {},
   "outputs": [
    {
     "name": "stdout",
     "output_type": "stream",
     "text": [
      "다람쥐님, 좋은 아침입니다 :) Merry Christmas!\n",
      "호랑이님, 좋은 점심입니다 :) Merry Christmas!\n",
      "토끼님, 좋은 저녁입니다 :) Merry Christmas!\n"
     ]
    }
   ],
   "source": [
    "name_squirrel = '다람쥐'            # 구조만 맞으면 변수가 달라도 상관없다.\n",
    "time_morning = '아침'\n",
    "print(full_greeting(name_squirrel, time_morning))   # 다른 상수 또는 리터럴이 들어가도 된다.\n",
    "\n",
    "name_tiger = '호랑이'\n",
    "time_afternoon = '점심'\n",
    "print(full_greeting(name_tiger, time_afternoon))\n",
    "\n",
    "name_rabbit = '토끼'\n",
    "time_evening = '저녁'\n",
    "print(full_greeting(time = '저녁', name = '토끼'))  # 파라미터를 거쳐서 값을 넣어주는 경우는 순서가 달라도 상관없다.\n",
    "\n",
    "# print(full_greeting(name = '매', '노을지는 시간')) # 파라미터를 거치지 않고 값을 바로 넣어주면 작동하지 않는다."
   ]
  },
  {
   "cell_type": "markdown",
   "metadata": {},
   "source": [
    "---\n",
    "\n",
    "### 패키징과 언패키징"
   ]
  },
  {
   "cell_type": "code",
   "execution_count": 2,
   "metadata": {},
   "outputs": [
    {
     "name": "stdout",
     "output_type": "stream",
     "text": [
      "똘기 떵이 호치 새초미 드라고 요롱이 마초 미미 뭉치 키키 강다리 치치 "
     ]
    }
   ],
   "source": [
    "def call_animal(*animal_args):\n",
    "    for animal_name in animal_args:\n",
    "        print(animal_name, end = ' ')\n",
    "\n",
    "call_animal('똘기', '떵이', '호치', '새초미', '드라고', '요롱이', '마초', '미미', '뭉치', '키키', '강다리', '치치')"
   ]
  },
  {
   "cell_type": "code",
   "execution_count": 90,
   "metadata": {},
   "outputs": [
    {
     "data": {
      "text/plain": [
       "2100"
      ]
     },
     "execution_count": 90,
     "metadata": {},
     "output_type": "execute_result"
    }
   ],
   "source": [
    "def multi_sum(num1, num2, num3, num4, num5):\n",
    "    return num1 + num2 + num3 + num4 + num5\n",
    "\n",
    "numbers = [2024, 12, 23, 11, 30]\n",
    "multi_sum(*numbers)"
   ]
  },
  {
   "cell_type": "markdown",
   "metadata": {},
   "source": [
    "---\n",
    "\n",
    "### Lambda 함수"
   ]
  },
  {
   "cell_type": "code",
   "execution_count": 4,
   "metadata": {},
   "outputs": [
    {
     "name": "stdout",
     "output_type": "stream",
     "text": [
      "[11, 22, 33, 44, 55]\n"
     ]
    }
   ],
   "source": [
    "def add(x, y):\n",
    "    return x + y\n",
    "\n",
    "numbers1 = [1, 2, 3, 4, 5]\n",
    "numbers2 = [10, 20, 30, 40, 50]\n",
    "added_numbers = list(map(add, numbers1, numbers2))\n",
    "\n",
    "print(added_numbers)  # [11, 22, 33, 44, 55]"
   ]
  },
  {
   "cell_type": "code",
   "execution_count": 5,
   "metadata": {},
   "outputs": [
    {
     "name": "stdout",
     "output_type": "stream",
     "text": [
      "[11, 22, 33, 44, 55]\n"
     ]
    }
   ],
   "source": [
    "add = lambda x, y: x + y\n",
    "\n",
    "numbers1 = [1, 2, 3, 4, 5]\n",
    "numbers2 = [10, 20, 30, 40, 50]\n",
    "added_numbers = list(map(add, numbers1, numbers2))\n",
    "\n",
    "print(added_numbers)  # [11, 22, 33, 44, 55]"
   ]
  },
  {
   "cell_type": "markdown",
   "metadata": {},
   "source": [
    "---\n",
    "\n",
    "### 실습"
   ]
  },
  {
   "cell_type": "markdown",
   "metadata": {},
   "source": [
    "## **문제 1: 자기소개 하기**\n",
    "\n",
    "**\"다람쥐는 IT 회사 첫 출근 날, 자기소개를 준비했다.\"**\n",
    "\n",
    "1. `introduce()`라는 함수를 만들어 **\"안녕하세요, 저는 다람쥐 신입사원입니다!\"**라는 메시지를 출력하세요.\n",
    "2. 함수를 호출하여 다람쥐의 자기소개를 출력하세요."
   ]
  },
  {
   "cell_type": "code",
   "execution_count": 95,
   "metadata": {},
   "outputs": [],
   "source": [
    "def introduce():\n",
    "    print('안녕하세요, 저는 다람쥐 신입사원입니다!')"
   ]
  },
  {
   "cell_type": "code",
   "execution_count": 96,
   "metadata": {},
   "outputs": [
    {
     "name": "stdout",
     "output_type": "stream",
     "text": [
      "안녕하세요, 저는 다람쥐 신입사원입니다!\n"
     ]
    }
   ],
   "source": [
    "introduce()"
   ]
  },
  {
   "cell_type": "markdown",
   "metadata": {},
   "source": [
    "## **문제 2: 출근 체크하기**\n",
    "\n",
    "**\"다람쥐는 출근할 때 출근부에 이름을 적어야 한다.\"**\n",
    "\n",
    "1. `check_in(name)`이라는 함수를 만들어 매개변수 `name`을 입력받아 다음과 같이 출력하세요.\n",
    "    - **\"[이름]님, 출근 체크 완료!\"**\n",
    "2. 함수를 호출해 **\"다람쥐\"**를 출근 체크하세요."
   ]
  },
  {
   "cell_type": "code",
   "execution_count": 246,
   "metadata": {},
   "outputs": [],
   "source": [
    "def check_in(name):\n",
    "    print(f'[{name}]님, 출근 체크 완료!')"
   ]
  },
  {
   "cell_type": "code",
   "execution_count": 249,
   "metadata": {},
   "outputs": [
    {
     "name": "stdout",
     "output_type": "stream",
     "text": [
      "[다람쥐]님, 출근 체크 완료!\n"
     ]
    }
   ],
   "source": [
    "name = input('')\n",
    "name = str(name)\n",
    "check_in(name)"
   ]
  },
  {
   "cell_type": "markdown",
   "metadata": {},
   "source": [
    "## **문제 3: 업무 시간 계산하기**\n",
    "\n",
    "**\"다람쥐는 오늘 근무한 시간을 계산하고 싶다.\"**\n",
    "\n",
    "1. `work_hours(start, end)`라는 함수를 만들어 매개변수 `start`(출근 시간)와 `end`(퇴근 시간)를 입력받아 근무 시간을 계산하세요.\n",
    "    - 근무 시간 = `end - start`\n",
    "2. 반환된 근무 시간을 출력하세요.\n",
    "    - 출력 예시: **\"오늘 근무한 시간은 [근무 시간]시간입니다.\"**"
   ]
  },
  {
   "cell_type": "code",
   "execution_count": 138,
   "metadata": {},
   "outputs": [],
   "source": [
    "def work_hours(start, end):\n",
    "    time = end - start\n",
    "    return time"
   ]
  },
  {
   "cell_type": "code",
   "execution_count": null,
   "metadata": {},
   "outputs": [
    {
     "name": "stdout",
     "output_type": "stream",
     "text": [
      "오늘 근무한 시간은 [3]시간입니다.\n"
     ]
    }
   ],
   "source": [
    "start = input('출근 시간을 입력해주세요')\n",
    "start = int(start)\n",
    "\n",
    "end = input('퇴근 시간을 입력해주세요')\n",
    "end = int(end)\n",
    "\n",
    "print(f'오늘 근무한 시간은 [{work_hours(start, end)}]시간입니다.')"
   ]
  },
  {
   "cell_type": "markdown",
   "metadata": {},
   "source": [
    "## **문제 4: 점심 메뉴 추천**\n",
    "\n",
    "**\"점심시간, 다람쥐는 팀원들에게 점심 메뉴를 추천해준다.\"**\n",
    "\n",
    "1. `recommend_menu(*menus)`라는 함수를 만들어 여러 개의 점심 메뉴를 매개변수로 전달받으세요.\n",
    "2. 랜덤하게 하나의 메뉴를 선택하고 반환하세요.\n",
    "    - 출력 예시: **\"오늘의 점심 메뉴는 [선택된 메뉴]입니다!\"**\n",
    "    - 힌트: `random.choice()`를 사용하면 랜덤 선택이 가능합니다."
   ]
  },
  {
   "cell_type": "code",
   "execution_count": 8,
   "metadata": {},
   "outputs": [],
   "source": [
    "import random\n",
    "\n",
    "def recommend_menu(*menus):\n",
    "    menus = ['한식', '중식', '일식', '양식', '분식']\n",
    "    return random.choice(menus)"
   ]
  },
  {
   "cell_type": "code",
   "execution_count": 9,
   "metadata": {},
   "outputs": [
    {
     "name": "stdout",
     "output_type": "stream",
     "text": [
      "오늘의 점심 메뉴는 [양식]입니다!\n"
     ]
    }
   ],
   "source": [
    "print(f'오늘의 점심 메뉴는 [{recommend_menu()}]입니다!')"
   ]
  },
  {
   "cell_type": "markdown",
   "metadata": {},
   "source": [
    "## **문제 5: 오후 커피 마시기**\n",
    "\n",
    "**\"오후에 졸린 다람쥐는 커피를 마시려고 한다.\"**\n",
    "\n",
    "1. `coffee_time()`이라는 함수를 만들어 다음과 같은 문자열을 반환하세요.\n",
    "    - **\"오후 3시입니다. 커피 한 잔 하세요!\"**\n",
    "2. 반환된 문자열을 출력하세요."
   ]
  },
  {
   "cell_type": "code",
   "execution_count": 159,
   "metadata": {},
   "outputs": [],
   "source": [
    "def coffee_time():\n",
    "    return '오후 3시입니다. 커피 한 잔 하세요!'"
   ]
  },
  {
   "cell_type": "code",
   "execution_count": 160,
   "metadata": {},
   "outputs": [
    {
     "name": "stdout",
     "output_type": "stream",
     "text": [
      "오후 3시입니다. 커피 한 잔 하세요!\n"
     ]
    }
   ],
   "source": [
    "print(coffee_time())"
   ]
  },
  {
   "cell_type": "markdown",
   "metadata": {},
   "source": [
    "## **문제 6: 업무 성과 분석하기**\n",
    "\n",
    "**\"다람쥐는 오늘의 업무 성과를 보고해야 한다.\"**\n",
    "\n",
    "1. `work_report(tasks_done)`이라는 함수를 만들어 오늘 처리한 업무 수를 매개변수로 받으세요.\n",
    "2. 함수는 다음 두 값을 반환합니다.\n",
    "    - `tasks_done`: 처리한 업무 수\n",
    "    - `status`: 업무 성과 평가 (10개 이상: \"우수\", 5~9개: \"보통\", 4개 이하: \"노력 필요\")\n",
    "3. 반환된 값을 사용해 다음 메시지를 출력하세요.\n",
    "    - **\"오늘 처리한 업무는 [업무 수]개입니다. 성과 평가: [평가]\"**"
   ]
  },
  {
   "cell_type": "code",
   "execution_count": 240,
   "metadata": {},
   "outputs": [],
   "source": [
    "def work_report(tasks_done):\n",
    "\n",
    "    # if tasks_done >= 10:\n",
    "    #     status = '우수'\n",
    "    # elif tasks_done >= 5: # elif는 if문에 종속되기 때문에 사전조건을 써줄 필요가 없다.\n",
    "    #     status = '보통'\n",
    "    # else:\n",
    "    #     status = '노력 필요'\n",
    "\n",
    "    # 삼항연산자로도 가능\n",
    "    status = '우수' if tasks_done >= 10 else ('보통' if tasks_done >= 5 else '노력 필요')\n",
    "\n",
    "    return tasks_done, status"
   ]
  },
  {
   "cell_type": "code",
   "execution_count": 241,
   "metadata": {},
   "outputs": [
    {
     "name": "stdout",
     "output_type": "stream",
     "text": [
      "오늘 처리한 업무는 [10]개입니다. 성과 평가: [우수]\n"
     ]
    }
   ],
   "source": [
    "tasks_done = input('처리한 업무 수')\n",
    "tasks_done = int(tasks_done)\n",
    "\n",
    "tasks_done, status = work_report(tasks_done)\n",
    "\n",
    "print(f'오늘 처리한 업무는 [{tasks_done}]개입니다. 성과 평가: [{status}]')"
   ]
  },
  {
   "cell_type": "markdown",
   "metadata": {},
   "source": [
    "## **문제 7: 월급 계산 및 세금 공제**\n",
    "\n",
    "**\"다람쥐는 첫 월급을 계산하고 세금을 공제해야 한다.\"**\n",
    "\n",
    "1. `calculate_salary(base_salary, bonus)`라는 함수를 만들어 기본 월급과 보너스를 매개변수로 받으세요.\n",
    "2. 총 월급을 계산하고, 세금은 총 월급의 10%로 공제하세요.\n",
    "3. 함수는 다음 두 값을 반환합니다.\n",
    "    - `net_salary`: 실수령액 (총 월급 - 세금)\n",
    "    - `tax`: 세금 공제액\n",
    "4. 반환된 값을 사용해 다음 메시지를 출력하세요.\n",
    "    - **\"세전 월급: [총 월급]원, 세금: [세금]원, 실수령액: [실수령액]원\"**"
   ]
  },
  {
   "cell_type": "code",
   "execution_count": 266,
   "metadata": {},
   "outputs": [],
   "source": [
    "def calculate_salary(base_salary, bonus):\n",
    "    \n",
    "    tax = (base_salary + bonus) * float(0.1)\n",
    "    net_salary = (base_salary + bonus) - tax\n",
    "\n",
    "    return net_salary, tax"
   ]
  },
  {
   "cell_type": "code",
   "execution_count": 267,
   "metadata": {},
   "outputs": [
    {
     "name": "stdout",
     "output_type": "stream",
     "text": [
      "세전 월급: [9000000.0]원, 세금: [900000.0]원, 실수령액: [8100000.0]원\n"
     ]
    }
   ],
   "source": [
    "base_salary = input('기본 월급을 입력해주세요')\n",
    "base_salary = float(base_salary)\n",
    "\n",
    "bonus = input('보너스를 입력해주세요')\n",
    "bonus = float(bonus)\n",
    "\n",
    "sum_salary = base_salary + bonus\n",
    "\n",
    "net_salary, tax = calculate_salary(base_salary, bonus)\n",
    "\n",
    "print(f'세전 월급: [{sum_salary}]원, 세금: [{tax}]원, 실수령액: [{net_salary}]원')"
   ]
  },
  {
   "cell_type": "code",
   "execution_count": null,
   "metadata": {},
   "outputs": [],
   "source": []
  }
 ],
 "metadata": {
  "kernelspec": {
   "display_name": "pystudy_env",
   "language": "python",
   "name": "python3"
  },
  "language_info": {
   "codemirror_mode": {
    "name": "ipython",
    "version": 3
   },
   "file_extension": ".py",
   "mimetype": "text/x-python",
   "name": "python",
   "nbconvert_exporter": "python",
   "pygments_lexer": "ipython3",
   "version": "3.12.8"
  }
 },
 "nbformat": 4,
 "nbformat_minor": 2
}
