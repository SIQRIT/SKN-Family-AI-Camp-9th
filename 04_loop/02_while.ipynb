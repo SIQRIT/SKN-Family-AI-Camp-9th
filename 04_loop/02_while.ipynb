{
 "cells": [
  {
   "cell_type": "markdown",
   "metadata": {},
   "source": [
    "## **문제 7: 테이블 청소하기**\n",
    "\n",
    "**\"다람쥐는 닫기 전에 테이블을 모두 청소해야 한다.\"**\n",
    "\n",
    "다람쥐는 5번 테이블까지 순서대로 청소해야 합니다.\n",
    "\n",
    "1. `while`문을 사용하여 `1`번부터 `5`번 테이블을 청소하세요.\n",
    "2. 각 테이블마다 **\"[n번 테이블] 청소 완료!\"**를 출력하세요."
   ]
  },
  {
   "cell_type": "code",
   "execution_count": 2,
   "metadata": {},
   "outputs": [
    {
     "name": "stdout",
     "output_type": "stream",
     "text": [
      "[1번 테이블] 청소 완료!\n",
      "[2번 테이블] 청소 완료!\n",
      "[3번 테이블] 청소 완료!\n",
      "[4번 테이블] 청소 완료!\n",
      "[5번 테이블] 청소 완료!\n"
     ]
    }
   ],
   "source": [
    "n = 1\n",
    "\n",
    "while n < 6:\n",
    "    print(f'[{n}번 테이블] 청소 완료!')\n",
    "    n += 1"
   ]
  },
  {
   "cell_type": "markdown",
   "metadata": {},
   "source": [
    "## **문제 8: 손님이 그만 올 때까지 기다리기**\n",
    "\n",
    "**\"손님이 그만 올 때까지 카운터에서 기다리는 다람쥐.\"**\n",
    "\n",
    "다람쥐는 손님이 그만 올 때까지 카운터를 지켜야 합니다.\n",
    "\n",
    "1. 변수 `customers`에 초기값 `5`를 설정하세요.\n",
    "2. `while`문을 사용해 손님이 줄어들 때마다 `customers`를 1씩 감소시키세요.\n",
    "3. 손님이 0이 될 때까지 **\"남은 손님 수: [customers]명\"**을 출력하세요.\n",
    "4. 손님이 모두 떠나면 **\"오늘의 영업이 끝났습니다!\"**를 출력하세요."
   ]
  },
  {
   "cell_type": "code",
   "execution_count": 3,
   "metadata": {},
   "outputs": [
    {
     "name": "stdout",
     "output_type": "stream",
     "text": [
      "남은 손님 수: [5]명\n",
      "남은 손님 수: [4]명\n",
      "남은 손님 수: [3]명\n",
      "남은 손님 수: [2]명\n",
      "남은 손님 수: [1]명\n",
      "오늘의 영업이 끝났습니다!\n"
     ]
    }
   ],
   "source": [
    "customers = 5\n",
    "\n",
    "while customers > 0:\n",
    "    print(f'남은 손님 수: [{customers}]명')\n",
    "    customers -= 1\n",
    "\n",
    "    if customers == 0:\n",
    "        print('오늘의 영업이 끝났습니다!')"
   ]
  },
  {
   "cell_type": "markdown",
   "metadata": {},
   "source": [
    "## **문제 9: 알바비 계산하기**\n",
    "\n",
    "**\"다람쥐는 일한 시간만큼 알바비를 계산합니다.\"**\n",
    "\n",
    "다람쥐의 시급은 **1시간에 1000원**입니다.\n",
    "\n",
    "1. 변수 `work_hours`에 일한 시간(정수)을 입력받으세요.\n",
    "2. `while`문을 사용해 일한 시간만큼 반복하며 `pay`에 시급을 더하세요.\n",
    "3. 최종 알바비를 **\"오늘의 알바비는 [pay]원입니다.\"**로 출력하세요."
   ]
  },
  {
   "cell_type": "code",
   "execution_count": 4,
   "metadata": {},
   "outputs": [
    {
     "name": "stdout",
     "output_type": "stream",
     "text": [
      "오늘의 알바비는 [0]원입니다.\n"
     ]
    }
   ],
   "source": [
    "work_hours = input()\n",
    "work_hours = int(work_hours)\n",
    "pay = 0\n",
    "\n",
    "while True:\n",
    "    pay = work_hours * 1000\n",
    "    print(f'오늘의 알바비는 [{pay}]원입니다.')\n",
    "    break\n",
    "\n",
    "# print(f'오늘의 알바비는 [{pay}]원입니다.')\n",
    "\n",
    "# while True:\n",
    "#     pay += 1000\n",
    "#     work_hours -= 1\n",
    "\n",
    "#     if work_hours == 0:\n",
    "#         break\n",
    "\n",
    "# print(f'오늘의 알바비는 [{pay}]원입니다.')"
   ]
  },
  {
   "cell_type": "code",
   "execution_count": null,
   "metadata": {},
   "outputs": [],
   "source": []
  }
 ],
 "metadata": {
  "kernelspec": {
   "display_name": "pystudy_env",
   "language": "python",
   "name": "python3"
  },
  "language_info": {
   "codemirror_mode": {
    "name": "ipython",
    "version": 3
   },
   "file_extension": ".py",
   "mimetype": "text/x-python",
   "name": "python",
   "nbconvert_exporter": "python",
   "pygments_lexer": "ipython3",
   "version": "3.12.8"
  }
 },
 "nbformat": 4,
 "nbformat_minor": 2
}
