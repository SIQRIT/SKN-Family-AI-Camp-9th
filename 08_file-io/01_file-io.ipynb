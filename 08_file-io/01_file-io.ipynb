{
 "cells": [
  {
   "cell_type": "markdown",
   "metadata": {},
   "source": [
    "### 파일 입출력"
   ]
  },
  {
   "cell_type": "code",
   "execution_count": 10,
   "metadata": {},
   "outputs": [],
   "source": [
    "# 파일이 없는 경우\n",
    "# read 모드일 때 에러생김\n",
    "# write 모드일 때 디렉토리는 반드시 있어야 함"
   ]
  },
  {
   "cell_type": "code",
   "execution_count": 11,
   "metadata": {},
   "outputs": [],
   "source": [
    "# 절대경로로 write모드\n",
    "f1 = open('C:\\\\workspace\\\\python_basic\\\\08_file-io\\\\test.txt', 'w')\n",
    "\n",
    "f1.write('오늘의 점심 메뉴: 뽀로로와 함께하는 튼튼어린이도시락\\n')\n",
    "f1.write('[오늘의 점심 메뉴]\\n뽀로로와 함께하는 튼튼어린이도시락')\n",
    "\n",
    "f1.close()"
   ]
  },
  {
   "cell_type": "code",
   "execution_count": 12,
   "metadata": {},
   "outputs": [],
   "source": [
    "# 상대경로로 write모드\n",
    "f2 = open('our_song.txt', 'w')\n",
    "\n",
    "our_song = ['동에 번쩍, 서에 번쩍 ', '천하를 쥐락펴락\\n', '방선천리 주름잡아 ',\n",
    "            '장군님 가신다.\\n', '수령님 쓰시던 축지법 ', '오늘은 장군님 쓰신다 \\n',\n",
    "             '백두의 전법 ', '신묘한 전법 ', \n",
    "             '장군님 쓰신다!']\n",
    "\n",
    "f2.writelines(our_song)\n",
    "\n",
    "f2.close()"
   ]
  },
  {
   "cell_type": "code",
   "execution_count": null,
   "metadata": {},
   "outputs": [],
   "source": [
    "# 상대경로로 read모드\n",
    "f3 = open('our_song.txt', 'r', encoding = 'utf-8') # 한글이 깨지지 않는 방식 'utf-8'\n",
    "\n",
    "# 한 문단씩 확인해보자\n",
    "# f3_read = f3.read()             # 파일 전체를 반환하기\n",
    "# print('f3_read\\n', f3_read, '\\n', type(f3_read), '\\n')\n",
    "\n",
    "# f3_readline = f3.readline()     # 파일의 첫 번째 줄만 반환하기\n",
    "# print('f3_readline\\n', f3_readline, '\\n', type(f3_readline), '\\n')\n",
    "\n",
    "# f3_readlines = f3.readlines()   # 파일 전체를 하나의 배열로 만들어서 반환한다\n",
    "# print('f3_readlines\\n', f3_readlines, '\\n', type(f3_readlines), '\\n')\n",
    "\n",
    "f3.close()"
   ]
  },
  {
   "cell_type": "code",
   "execution_count": 24,
   "metadata": {},
   "outputs": [],
   "source": [
    "# 상대경로로 append모드\n",
    "f4 = open('our_song.txt', 'a', encoding = 'utf-8') # 한글이 깨지지 않는 방식 'utf-8'\n",
    "\n",
    "f4.write('\\n장군님의 노래는 끝나지 않는다!\\n')\n",
    "\n",
    "f4.close()"
   ]
  },
  {
   "cell_type": "code",
   "execution_count": 25,
   "metadata": {},
   "outputs": [],
   "source": [
    "# with 구문에서는 자동으로 .close()가 이루어진다.\n",
    "with open('new_test.txt', 'w', encoding = 'utf-8') as f5:\n",
    "    f5.write('오늘은 파이썬\\n')\n",
    "    f5.write('내일은 Streamlit\\n')\n",
    "    f5.write('다음 주부터는 데이터베이스!')"
   ]
  },
  {
   "cell_type": "markdown",
   "metadata": {},
   "source": [
    "---\n",
    "\n",
    "### 실습"
   ]
  },
  {
   "cell_type": "markdown",
   "metadata": {},
   "source": [
    "### **문제 1: `.txt` 파일 생성 및 쓰기**\n",
    "\n",
    "다람쥐는 하루 동안 배운 내용을 기록하기 위해 일기를 작성합니다. 다음 작업을 수행하세요.\n",
    "\n",
    "1. `diary.txt` 파일을 생성하고, 다람쥐가 오늘 배운 내용을 작성하세요.\n",
    "2. 내용:\n",
    "    \n",
    "    ```\n",
    "    오늘은 파일 입출력을 배웠습니다.\n",
    "    다양한 파일 확장자와 접근 모드를 사용할 수 있다는 점이 흥미로웠습니다.\n",
    "    ```\n",
    "    \n",
    "3. 파일을 닫고 다시 열어 작성된 내용을 출력하세요."
   ]
  },
  {
   "cell_type": "code",
   "execution_count": 45,
   "metadata": {},
   "outputs": [
    {
     "name": "stdout",
     "output_type": "stream",
     "text": [
      "오늘은 파일 입출력을 배웠읍니다.\n",
      "다양한 파일 확장자와 접근 모드를 사용할 수 있다는 점이 흥미로웠읍니다.\n"
     ]
    }
   ],
   "source": [
    "with open('diary.txt', 'w', encoding = 'utf-8') as diary:\n",
    "    diary.write('오늘은 파일 입출력을 배웠읍니다.\\n')\n",
    "    diary.write('다양한 파일 확장자와 접근 모드를 사용할 수 있다는 점이 흥미로웠읍니다.')\n",
    "\n",
    "diary = open('diary.txt', 'r', encoding = 'utf-8')\n",
    "diary_read = diary.read()\n",
    "print(diary_read)\n",
    "diary.close()"
   ]
  },
  {
   "cell_type": "markdown",
   "metadata": {},
   "source": [
    "### **문제 2: `.csv` 파일 생성 및 읽기**\n",
    "\n",
    "다람쥐는 이직 준비를 위해 지원했던 회사들의 정보를 저장하려고 합니다.\n",
    "\n",
    "1. `applications.csv` 파일을 생성하고 다음 데이터를 작성하세요.\n",
    "    \n",
    "    ```\n",
    "    회사명,직무,결과\n",
    "    회사A,데이터 분석가,합격\n",
    "    회사B,소프트웨어 엔지니어,불합격\n",
    "    회사C,제품 관리자,진행 중\n",
    "    ```\n",
    "    \n",
    "2. 파일을 닫고 다시 열어 모든 데이터를 출력하세요."
   ]
  },
  {
   "cell_type": "code",
   "execution_count": 46,
   "metadata": {},
   "outputs": [
    {
     "name": "stdout",
     "output_type": "stream",
     "text": [
      "회사명, 직무, 결과\n",
      "회사A, 데이터 분석가, 합격\n",
      "회사B, 소프트웨어 엔지니어, 불합격\n",
      "회사C, 제품 관리자, 진행 중\n",
      "\n"
     ]
    }
   ],
   "source": [
    "import csv\n",
    "\n",
    "applications = open('applications.csv', 'w', encoding = 'utf-8')\n",
    "applications.write('회사명, 직무, 결과\\n')\n",
    "applications.write('회사A, 데이터 분석가, 합격\\n')\n",
    "applications.write('회사B, 소프트웨어 엔지니어, 불합격\\n')\n",
    "applications.write('회사C, 제품 관리자, 진행 중\\n')\n",
    "applications.close()\n",
    "\n",
    "applications = open('applications.csv', 'r', encoding = 'utf-8')\n",
    "applications_read = applications.read()\n",
    "print(applications_read)\n",
    "applications.close()"
   ]
  },
  {
   "cell_type": "code",
   "execution_count": 55,
   "metadata": {},
   "outputs": [
    {
     "name": "stdout",
     "output_type": "stream",
     "text": [
      "회사명, 직무, 결과\n",
      "\n",
      "회사A, 데이터 분석가, 합격\n",
      "\n",
      "회사B, 소프트웨어 엔지니어, 불합격\n",
      "\n",
      "회사C, 제품 관리자, 진행 중\n",
      "\n"
     ]
    }
   ],
   "source": [
    "import csv\n",
    "\n",
    "with open('applications.csv', 'w', encoding = 'utf-8') as applications:\n",
    "    writer = csv.writer(applications)\n",
    "    writer.writerow(['회사명', '직무', '결과'])\n",
    "    writer.writerow(['회사A', '데이터 분석가', '합격'])\n",
    "    writer.writerow(['회사B', '소프트웨어 엔지니어', '불합격'])\n",
    "    writer.writerow(['회사C', '제품 관리자', '진행 중'])\n",
    "\n",
    "with open('applications.csv', 'r', encoding = 'utf-8') as applications:\n",
    "    reader = csv.reader(applications)\n",
    "    for row in reader:\n",
    "        print(', '.join(row))"
   ]
  },
  {
   "cell_type": "markdown",
   "metadata": {},
   "source": [
    "### **문제 3: `.log` 파일 읽기**\n",
    "\n",
    "다람쥐는 프로그램 실행 로그를 확인하려고 합니다.\n",
    "\n",
    "1. `system.log` 파일을 다음 내용으로 생성하세요.\n",
    "    \n",
    "    ```\n",
    "    [INFO] 2024-01-01 12:00:00: 시스템 시작\n",
    "    [WARN] 2024-01-01 12:05:00: 메모리 사용량 증가\n",
    "    [ERROR] 2024-01-01 12:10:00: 프로그램 종료\n",
    "    ```\n",
    "    \n",
    "2. 파일을 읽어와 `WARN` 또는 `ERROR`가 포함된 줄만 출력하세요."
   ]
  },
  {
   "cell_type": "code",
   "execution_count": 57,
   "metadata": {},
   "outputs": [
    {
     "name": "stdout",
     "output_type": "stream",
     "text": [
      "[WARN] 2024-01-01 12:05:00: 메모리 사용량 증가\n",
      "\n",
      "[ERROR] 2024-01-01 12:10:00: 프로그램 종료\n"
     ]
    }
   ],
   "source": [
    "system = open('system.log', 'w', encoding = 'utf-8')\n",
    "log_content = [\n",
    "    '[INFO] 2024-01-01 12:00:00: 시스템 시작\\n',\n",
    "    '[WARN] 2024-01-01 12:05:00: 메모리 사용량 증가\\n',\n",
    "    '[ERROR] 2024-01-01 12:10:00: 프로그램 종료']\n",
    "system.writelines(log_content)\n",
    "system.close()\n",
    "\n",
    "system = open('system.log', 'r', encoding = 'utf-8')\n",
    "for line in system:\n",
    "    if \"WARN\" in line or \"ERROR\" in line:\n",
    "        print(line)\n",
    "system.close()"
   ]
  },
  {
   "cell_type": "code",
   "execution_count": null,
   "metadata": {},
   "outputs": [],
   "source": []
  }
 ],
 "metadata": {
  "kernelspec": {
   "display_name": "pystudy_env",
   "language": "python",
   "name": "python3"
  },
  "language_info": {
   "codemirror_mode": {
    "name": "ipython",
    "version": 3
   },
   "file_extension": ".py",
   "mimetype": "text/x-python",
   "name": "python",
   "nbconvert_exporter": "python",
   "pygments_lexer": "ipython3",
   "version": "3.12.8"
  }
 },
 "nbformat": 4,
 "nbformat_minor": 2
}
