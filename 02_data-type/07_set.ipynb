{
 "cells": [
  {
   "cell_type": "markdown",
   "metadata": {},
   "source": [
    "### 셋 (집합)"
   ]
  },
  {
   "cell_type": "code",
   "execution_count": 1,
   "metadata": {},
   "outputs": [],
   "source": [
    "empty_set = set({})\n",
    "number_set = {1}\n",
    "anything = {2024, 12, 20, '오늘은 제어문 배우는 날', True}\n",
    "vs = {}"
   ]
  },
  {
   "cell_type": "code",
   "execution_count": 2,
   "metadata": {},
   "outputs": [
    {
     "name": "stdout",
     "output_type": "stream",
     "text": [
      "<class 'set'> <class 'set'> <class 'set'> <class 'dict'>\n"
     ]
    }
   ],
   "source": [
    "print(type(empty_set), type(number_set), type(anything), type(vs))"
   ]
  },
  {
   "cell_type": "code",
   "execution_count": 38,
   "metadata": {},
   "outputs": [],
   "source": [
    "animals = {'squirrel', 'sheep', 'tiger', 'monkey', 'squirrel'}"
   ]
  },
  {
   "cell_type": "code",
   "execution_count": 39,
   "metadata": {},
   "outputs": [
    {
     "name": "stdout",
     "output_type": "stream",
     "text": [
      "{'sheep', 'monkey', 'tiger', 'squirrel'}\n"
     ]
    }
   ],
   "source": [
    "print(animals)"
   ]
  },
  {
   "cell_type": "markdown",
   "metadata": {},
   "source": [
    "\n",
    "---\n",
    "### 셋의 집합 연산"
   ]
  },
  {
   "cell_type": "code",
   "execution_count": 40,
   "metadata": {},
   "outputs": [],
   "source": [
    "scd_animals = {'squirrel', 'sheep', 'gorilla', 'bear', 'racoon'}"
   ]
  },
  {
   "cell_type": "code",
   "execution_count": 41,
   "metadata": {},
   "outputs": [
    {
     "name": "stdout",
     "output_type": "stream",
     "text": [
      "{'sheep', 'monkey', 'gorilla', 'racoon', 'tiger', 'squirrel', 'bear'}\n",
      "{'sheep', 'monkey', 'gorilla', 'racoon', 'tiger', 'squirrel', 'bear'}\n",
      "{'sheep', 'squirrel'}\n",
      "{'sheep', 'squirrel'}\n",
      "{'monkey', 'tiger'}\n",
      "{'monkey', 'tiger'}\n",
      "{'monkey', 'gorilla', 'tiger', 'racoon', 'bear'}\n",
      "{'monkey', 'gorilla', 'tiger', 'racoon', 'bear'}\n"
     ]
    }
   ],
   "source": [
    "# 합집합 union\n",
    "print(animals.union(scd_animals))\n",
    "print(animals | scd_animals)\n",
    "\n",
    "# 교집합 intersection\n",
    "print(animals.intersection(scd_animals))\n",
    "print(animals & scd_animals)\n",
    "\n",
    "# 차집합 differece\n",
    "print(animals.difference(scd_animals))\n",
    "print(animals - scd_animals)\n",
    "\n",
    "# 대칭차집합 symmetric_difference\n",
    "print(animals.symmetric_difference(scd_animals))\n",
    "print(animals ^ scd_animals)"
   ]
  },
  {
   "cell_type": "markdown",
   "metadata": {},
   "source": [
    "### **문제 1**\n",
    "\n",
    "다음 조건에 맞는 **셋**을 생성하세요.\n",
    "\n",
    "1. `fruits`라는 셋을 선언하고 `'apple', 'banana', 'cherry'`를 추가하세요.\n",
    "2. `print()`를 사용하여 `fruits`를 출력하세요."
   ]
  },
  {
   "cell_type": "code",
   "execution_count": 3,
   "metadata": {},
   "outputs": [],
   "source": [
    "fruits = set({})"
   ]
  },
  {
   "cell_type": "code",
   "execution_count": 4,
   "metadata": {},
   "outputs": [],
   "source": [
    "fruits = {'apple', 'banana', 'cherry'}"
   ]
  },
  {
   "cell_type": "code",
   "execution_count": 5,
   "metadata": {},
   "outputs": [
    {
     "name": "stdout",
     "output_type": "stream",
     "text": [
      "{'apple', 'banana', 'cherry'}\n"
     ]
    }
   ],
   "source": [
    "print(fruits)"
   ]
  },
  {
   "cell_type": "markdown",
   "metadata": {},
   "source": [
    "### **문제 3**\n",
    "\n",
    "다음 조건에 맞게 **집합 연산**을 수행하세요.\n",
    "\n",
    "1. `set1`에 `{1, 2, 3}`을 저장하고, `set2`에 `{3, 4, 5}`를 저장하세요.\n",
    "2. `set1`과 `set2`의 **합집합**을 구해서 출력하세요."
   ]
  },
  {
   "cell_type": "code",
   "execution_count": 44,
   "metadata": {},
   "outputs": [],
   "source": [
    "set1 = {1, 2, 3}\n",
    "set2 = {3, 4, 5}"
   ]
  },
  {
   "cell_type": "code",
   "execution_count": 45,
   "metadata": {},
   "outputs": [
    {
     "name": "stdout",
     "output_type": "stream",
     "text": [
      "{1, 2, 3, 4, 5}\n",
      "{1, 2, 3, 4, 5}\n"
     ]
    }
   ],
   "source": [
    "print(set1.union(set2))\n",
    "print(set1 | set2)"
   ]
  },
  {
   "cell_type": "markdown",
   "metadata": {},
   "source": [
    "### **문제 6**\n",
    "\n",
    "다음 조건에 맞게 **셋의 메서드**를 활용하세요.\n",
    "\n",
    "1. `colors1`에 `'red', 'blue', 'green'`을 저장하세요.\n",
    "2. `colors2`에 `'blue', 'yellow', 'pink'`를 저장하세요.\n",
    "3. 두 셋의 **교집합**을 구하여 출력하세요."
   ]
  },
  {
   "cell_type": "code",
   "execution_count": 46,
   "metadata": {},
   "outputs": [],
   "source": [
    "colors1 = {'red', 'blue', 'green'}\n",
    "colors2 = {'blue', 'yellow', 'pink'}"
   ]
  },
  {
   "cell_type": "code",
   "execution_count": 47,
   "metadata": {},
   "outputs": [
    {
     "name": "stdout",
     "output_type": "stream",
     "text": [
      "{'blue'}\n",
      "{'blue'}\n"
     ]
    }
   ],
   "source": [
    "print(colors1.intersection(colors2))\n",
    "print(colors1 & colors2)"
   ]
  },
  {
   "cell_type": "markdown",
   "metadata": {},
   "source": [
    "### **문제 10**\n",
    "\n",
    "다음 조건에 맞는 프로그램을 작성하세요.\n",
    "\n",
    "1. 두 셋 `A = {1, 2, 3, 4}`와 `B = {3, 4, 5, 6}`가 있습니다.\n",
    "2. `A`와 `B`의 **대칭 차집합**을 구하세요.\n",
    "3. 결과를 `print()`를 사용해 출력하세요."
   ]
  },
  {
   "cell_type": "code",
   "execution_count": 48,
   "metadata": {},
   "outputs": [],
   "source": [
    "A = {1, 2, 3, 4}\n",
    "B = {3, 4, 5, 6}"
   ]
  },
  {
   "cell_type": "code",
   "execution_count": 49,
   "metadata": {},
   "outputs": [
    {
     "name": "stdout",
     "output_type": "stream",
     "text": [
      "{1, 2, 5, 6}\n",
      "{1, 2, 5, 6}\n"
     ]
    }
   ],
   "source": [
    "print(A.symmetric_difference(B))\n",
    "print(A ^ B)"
   ]
  },
  {
   "cell_type": "code",
   "execution_count": null,
   "metadata": {},
   "outputs": [],
   "source": []
  }
 ],
 "metadata": {
  "kernelspec": {
   "display_name": "pystudy_env",
   "language": "python",
   "name": "python3"
  },
  "language_info": {
   "codemirror_mode": {
    "name": "ipython",
    "version": 3
   },
   "file_extension": ".py",
   "mimetype": "text/x-python",
   "name": "python",
   "nbconvert_exporter": "python",
   "pygments_lexer": "ipython3",
   "version": "3.12.8"
  }
 },
 "nbformat": 4,
 "nbformat_minor": 2
}
