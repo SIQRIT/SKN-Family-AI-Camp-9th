{
 "cells": [
  {
   "cell_type": "markdown",
   "metadata": {},
   "source": [
    "### 클래스"
   ]
  },
  {
   "cell_type": "code",
   "execution_count": 182,
   "metadata": {},
   "outputs": [],
   "source": [
    "# 클래스의 구성요소\n",
    "class Student:\n",
    "\n",
    "    # 1. 클래스 속성: 해당 클래스 전체가 공유\n",
    "    name = ''\n",
    "    phone = ''\n",
    "    dream = ['취업']\n",
    "    numbers = [1, 2, 3, 4, 5]\n",
    "\n",
    "    # 2. 생성자: 초기값 설정 부분\n",
    "    # def __init__(self, name, phone):\n",
    "    #     self.name = name\n",
    "    #     self.phone = phone\n",
    "    #     self.dream = ['취업']\n",
    "        # pass\n",
    "\n",
    "    # 3. 메소드: 클래스 속성과 마찬가지로 해당 클래스 전체가 공유\n",
    "    def study(self):\n",
    "        for n in range(4, len(self.numbers)):\n",
    "            print(f'나는 오늘도 열심히 공부하는 9기 [{n + 1}번] [{self.name}] 학생')\n",
    "    \n",
    "    def introduce(self):\n",
    "        print(f'저는 {self.name}이고요, 연락처는 {self.phone}입니다. 제가 이루고 싶은 목표는! {self.dream}')"
   ]
  },
  {
   "cell_type": "code",
   "execution_count": 183,
   "metadata": {},
   "outputs": [
    {
     "name": "stdout",
     "output_type": "stream",
     "text": [
      "나는 오늘도 열심히 공부하는 9기 [5번] [조이현] 학생\n",
      "저는 조이현이고요, 연락처는 010-8958-7407입니다. 제가 이루고 싶은 목표는! ['진학']\n",
      "조이현 010-8958-7407 ['진학']\n"
     ]
    }
   ],
   "source": [
    "student1 = Student()\n",
    "\n",
    "# 이런 식으로 인스턴스 속성을 설정해두면, self.~값으로 인해 클래스 속성보다 인스턴스 속성이 우선시된다.\n",
    "student1.name = '조이현'\n",
    "student1.phone = '010-8958-7407'\n",
    "\n",
    "student1.dream.pop()\n",
    "student1.dream.append('진학')\n",
    "\n",
    "student1.study()\n",
    "student1.introduce()\n",
    "print(student1.name, student1.phone, student1.dream)"
   ]
  },
  {
   "cell_type": "code",
   "execution_count": 184,
   "metadata": {},
   "outputs": [],
   "source": [
    "# 클래스의 구성요소\n",
    "class Student:\n",
    "\n",
    "    # 1. 클래스 속성: 해당 클래스 전체가 공유\n",
    "    dream = ['취업']\n",
    "    name = ''\n",
    "    phone = ''\n",
    "\n",
    "    # 2. 생성자: 초기값 설정 부분\n",
    "    def __init__(self, name, phone):\n",
    "        self.name = name\n",
    "        self.phone = phone\n",
    "        self.dream = ['취업']\n",
    "        # pass\n",
    "\n",
    "    # 3. 메소드: 클래스 속성과 마찬가지로 해당 클래스 전체가 공유\n",
    "    def study(self):\n",
    "        print(f'나는 오늘도 열심히 공부하는 9기 [{self.name}] 학생')\n",
    "    \n",
    "    def introduce(self):\n",
    "        print(f'저는 {self.name}이고요, 연락처는 {self.phone}입니다. 제가 이루고 싶은 목표는! {self.dream}')"
   ]
  },
  {
   "cell_type": "code",
   "execution_count": 185,
   "metadata": {},
   "outputs": [
    {
     "name": "stdout",
     "output_type": "stream",
     "text": [
      "나는 오늘도 열심히 공부하는 9기 [홍길동] 학생\n",
      "저는 홍길동이고요, 연락처는 010-2345-6789입니다. 제가 이루고 싶은 목표는! ['취업']\n",
      "홍길동 010-2345-6789 ['취업']\n"
     ]
    }
   ],
   "source": [
    "student2 = Student('홍길동', '010-2345-6789')\n",
    "\n",
    "student2.study()\n",
    "student2.introduce()\n",
    "print(student2.name, student2.phone, student2.dream)"
   ]
  },
  {
   "cell_type": "markdown",
   "metadata": {},
   "source": [
    "---\n",
    "\n",
    "### 실습"
   ]
  },
  {
   "cell_type": "markdown",
   "metadata": {},
   "source": [
    "### **문제 1: 클래스 속성, 인스턴스 속성 테스트**\n",
    "\n",
    "다람쥐는 이직 준비를 위해 자기소개서를 작성해야 합니다. `Squirrel`이라는 클래스를 만들어 다람쥐의 기본 정보를 설정하세요.\n",
    "\n",
    "1. 클래스 속성 `species`를 설정하여 \"다람쥐\"로 초기화하세요.\n",
    "2. 생성자를 통해 인스턴스 속성 `name`과 `current_job`을 설정하세요.\n",
    "3. 메서드 `introduce`를 만들어 이름과 현재 직업을 소개하는 문자열을 반환하세요.\n",
    "4. 다른 인스턴스를 생성해도 `species`는 공유되지만, `name`과 `current_job`은 서로 독립적임을 확인하세요."
   ]
  },
  {
   "cell_type": "code",
   "execution_count": 186,
   "metadata": {},
   "outputs": [],
   "source": [
    "class Squirrel:\n",
    "    \n",
    "    species = '다람쥐'\n",
    "\n",
    "    def __init__(self, name, current_job):\n",
    "        self.name = name\n",
    "        self.current_job = current_job\n",
    "    \n",
    "    def introduce(self):\n",
    "        return f'안녕하세요! 저는 {self.name}이고요, 제 현재 직업은 {self.current_job}입니다.'"
   ]
  },
  {
   "cell_type": "code",
   "execution_count": 187,
   "metadata": {},
   "outputs": [
    {
     "name": "stdout",
     "output_type": "stream",
     "text": [
      "안녕하세요! 저는 다람쥐이고요, 제 현재 직업은 9기 강사입니다.\n",
      "안녕하세요! 저는 퇴근한 다람쥐이고요, 제 현재 직업은 넷플릭스 마스터입니다.\n"
     ]
    }
   ],
   "source": [
    "squirrel_1 = Squirrel('다람쥐', '9기 강사')\n",
    "squirrel_2 = Squirrel('퇴근한 다람쥐', '넷플릭스 마스터')\n",
    "\n",
    "print(squirrel_1.introduce())\n",
    "print(squirrel_2.introduce())"
   ]
  },
  {
   "cell_type": "markdown",
   "metadata": {},
   "source": [
    "### **문제 2: 클래스 속성과 인스턴스 속성의 차이**\n",
    "\n",
    "다람쥐는 이직 준비를 하며 다양한 직업 스킬을 학습 중입니다. 클래스 속성과 인스턴스 속성의 차이를 확인하세요.\n",
    "\n",
    "1. `Character` 클래스를 생성하세요.\n",
    "2. 클래스 속성 `skills`를 정의하여 빈 리스트로 초기화하세요.\n",
    "3. 생성자에서 인스턴스 속성 `skills`를 별도로 초기화하세요.\n",
    "4. `add_skill` 메서드에서 클래스 속성이 아닌 인스턴스 속성에 스킬을 추가하도록 수정하세요."
   ]
  },
  {
   "cell_type": "code",
   "execution_count": 190,
   "metadata": {},
   "outputs": [],
   "source": [
    "class Character:\n",
    "    \n",
    "    skills = []\n",
    "    \n",
    "    def __init__(self):\n",
    "        self.skills = []\n",
    "    \n",
    "    def add_skill(self, skills):\n",
    "        self.skills.append(skills)"
   ]
  },
  {
   "cell_type": "code",
   "execution_count": 191,
   "metadata": {},
   "outputs": [
    {
     "name": "stdout",
     "output_type": "stream",
     "text": [
      "[]\n",
      "['별가루 날리기']\n",
      "['별가루 날리기', '뿅망치 흔들기']\n"
     ]
    }
   ],
   "source": [
    "character = Character()\n",
    "print(character.skills)\n",
    "character.add_skill('별가루 날리기')\n",
    "print(character.skills)\n",
    "character.add_skill('뿅망치 흔들기')\n",
    "print(character.skills)"
   ]
  },
  {
   "cell_type": "markdown",
   "metadata": {},
   "source": [
    "### **문제 3: 인스턴스 속성과 클래스 속성의 우선순위**\n",
    "\n",
    "다람쥐는 이직을 위해 별명을 여러 개 사용합니다. 클래스 속성으로 `nickname`을 설정하지만, 각 인스턴스마다 별명을 변경할 수 있습니다.\n",
    "\n",
    "1. `Character` 클래스에 클래스 속성 `nickname`을 설정하세요.\n",
    "2. 생성자에서 인스턴스 속성 `nickname`을 설정하세요.\n",
    "3. 클래스 속성과 인스턴스 속성이 충돌할 때, 인스턴스 속성이 우선됨을 확인하세요."
   ]
  },
  {
   "cell_type": "code",
   "execution_count": 192,
   "metadata": {},
   "outputs": [],
   "source": [
    "class Character:\n",
    "    \n",
    "    nickname = '다람쥐'\n",
    "\n",
    "    def __init__(self, nickname):\n",
    "        self.nickname = nickname\n",
    "    \n",
    "    def introduce(self):\n",
    "        return f'나는야 명랑한 {self.nickname}입니다!'"
   ]
  },
  {
   "cell_type": "code",
   "execution_count": 193,
   "metadata": {},
   "outputs": [
    {
     "name": "stdout",
     "output_type": "stream",
     "text": [
      "다람쥐\n",
      "다람쥐\n",
      "다람쥐\n",
      "집순이\n",
      "선생님\n",
      "나는야 명랑한 집순이입니다!\n",
      "나는야 명랑한 선생님입니다!\n"
     ]
    }
   ],
   "source": [
    "character_1 = Character('집순이')\n",
    "character_2 = Character('선생님')\n",
    "\n",
    "print(Character.nickname)\n",
    "print(character_1.__class__.nickname)\n",
    "print(character_2.__class__.nickname)\n",
    "\n",
    "print(character_1.nickname)\n",
    "print(character_2.nickname)\n",
    "\n",
    "print(character_1.introduce())\n",
    "print(character_2.introduce())"
   ]
  },
  {
   "cell_type": "markdown",
   "metadata": {},
   "source": [
    "### **문제 4: 네임스페이스 테스트 - 전역과 로컬**\n",
    "\n",
    "다람쥐는 이직 준비 도구를 사용하며, 전역 변수와 로컬 변수를 관리합니다. `namespace_test` 함수를 작성해 네임스페이스를 테스트하세요.\n",
    "\n",
    "1. 전역 변수 `tool`을 \"연필\"로 설정하세요.\n",
    "2. 함수 `namespace_test` 내부에 로컬 변수 `local_tool`을 \"키보드\"로 설정하고, `global` 키워드를 사용해 전역 변수 `tool`을 \"펜\"으로 수정하세요.\n",
    "3. 함수 내부에서 로컬 변수와 전역 변수의 값을 출력하세요."
   ]
  },
  {
   "cell_type": "code",
   "execution_count": 220,
   "metadata": {},
   "outputs": [],
   "source": [
    "tool = '연필'\n",
    "\n",
    "def namespace_test():\n",
    "    \n",
    "    local_tool = '키보드'\n",
    "\n",
    "    global tool # global: 전역 변수를 땡겨 옴\n",
    "    tool = '펜'\n",
    "    \n",
    "    print(f'로컬 변수: {local_tool}')\n",
    "    print(f'전역 변수: {tool}')"
   ]
  },
  {
   "cell_type": "code",
   "execution_count": 221,
   "metadata": {},
   "outputs": [
    {
     "name": "stdout",
     "output_type": "stream",
     "text": [
      "로컬 변수: 키보드\n",
      "전역 변수: 펜\n"
     ]
    }
   ],
   "source": [
    "namespace_test()"
   ]
  },
  {
   "cell_type": "markdown",
   "metadata": {},
   "source": [
    "### **문제 5: 네임스페이스 테스트 - 클래스와 인스턴스**\n",
    "\n",
    "다람쥐는 이직 준비 중 클래스를 통해 도구를 관리합니다. `Toolbox` 클래스를 만들어 네임스페이스를 테스트하세요.\n",
    "\n",
    "1. 클래스 속성 `tools`를 [\"노트북\", \"책상\"]으로 초기화하세요.\n",
    "2. 생성자를 통해 인스턴스 속성 `tools`를 설정하고, 객체마다 다른 도구를 가질 수 있도록 설정하세요.\n",
    "3. `add_tool` 메서드를 만들어 클래스 속성에 새 도구를 추가하세요."
   ]
  },
  {
   "cell_type": "code",
   "execution_count": 211,
   "metadata": {},
   "outputs": [],
   "source": [
    "class Toolbox:\n",
    "    \n",
    "    tools = ['노트북', '책상']\n",
    "\n",
    "    def __init__(self):\n",
    "        self.tools = []\n",
    "    \n",
    "    def add_tool(self, tool):\n",
    "        __class__.tools.append(tool)"
   ]
  },
  {
   "cell_type": "code",
   "execution_count": 214,
   "metadata": {},
   "outputs": [
    {
     "name": "stdout",
     "output_type": "stream",
     "text": [
      "[]\n",
      "['노트북', '책상', '오함마', '오함마']\n",
      "[]\n",
      "['노트북', '책상', '오함마', '오함마', '오함마']\n"
     ]
    }
   ],
   "source": [
    "toolbox = Toolbox()\n",
    "print(toolbox.tools)\n",
    "print(Toolbox.tools)\n",
    "\n",
    "toolbox.add_tool('오함마')\n",
    "print(toolbox.tools)\n",
    "print(Toolbox.tools)"
   ]
  },
  {
   "cell_type": "code",
   "execution_count": 216,
   "metadata": {},
   "outputs": [],
   "source": [
    "class Toolbox:\n",
    "    \n",
    "    tools = ['노트북', '책상']\n",
    "\n",
    "    def __init__(self):\n",
    "        self.tools = []\n",
    "\n",
    "    @classmethod\n",
    "    def add_tool(cls, tool):\n",
    "        cls.tools.append(tool)"
   ]
  },
  {
   "cell_type": "code",
   "execution_count": 217,
   "metadata": {},
   "outputs": [
    {
     "name": "stdout",
     "output_type": "stream",
     "text": [
      "[]\n",
      "['노트북', '책상']\n",
      "[]\n",
      "['노트북', '책상', '오함마']\n"
     ]
    }
   ],
   "source": [
    "toolbox = Toolbox()\n",
    "print(toolbox.tools)\n",
    "print(Toolbox.tools)\n",
    "\n",
    "toolbox.add_tool('오함마')\n",
    "print(toolbox.tools)\n",
    "print(Toolbox.tools)"
   ]
  },
  {
   "cell_type": "markdown",
   "metadata": {},
   "source": [
    "### **문제 6: 네임스페이스 테스트 - nonlocal**\n",
    "\n",
    "다람쥐는 이직 준비 중 추가적인 정보가 필요합니다. 중첩 함수와 `nonlocal` 키워드를 사용해 바깥 함수의 변수를 수정하세요.\n",
    "\n",
    "1. 함수 `nested_function`을 작성하세요.\n",
    "2. 바깥 함수의 변수 `status`를 \"작성 중\"으로 초기화하세요.\n",
    "3. 중첩 함수에서 `status`를 \"완료\"로 수정하세요."
   ]
  },
  {
   "cell_type": "code",
   "execution_count": 222,
   "metadata": {},
   "outputs": [
    {
     "name": "stdout",
     "output_type": "stream",
     "text": [
      "작성 중\n",
      "완료\n"
     ]
    }
   ],
   "source": [
    "def nested_function():\n",
    "\n",
    "    status = '작성 중'\n",
    "\n",
    "    def inner_function():\n",
    "\n",
    "        nonlocal status # nonlocal: 바깥 함수를 땡겨움\n",
    "        status = '완료'\n",
    "    \n",
    "    print(status)\n",
    "    inner_function()\n",
    "    print(status)\n",
    "\n",
    "nested_function()"
   ]
  },
  {
   "cell_type": "code",
   "execution_count": null,
   "metadata": {},
   "outputs": [],
   "source": []
  }
 ],
 "metadata": {
  "kernelspec": {
   "display_name": "pystudy_env",
   "language": "python",
   "name": "python3"
  },
  "language_info": {
   "codemirror_mode": {
    "name": "ipython",
    "version": 3
   },
   "file_extension": ".py",
   "mimetype": "text/x-python",
   "name": "python",
   "nbconvert_exporter": "python",
   "pygments_lexer": "ipython3",
   "version": "3.12.8"
  }
 },
 "nbformat": 4,
 "nbformat_minor": 2
}
