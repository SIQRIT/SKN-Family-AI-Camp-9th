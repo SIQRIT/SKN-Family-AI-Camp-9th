{
 "cells": [
  {
   "cell_type": "markdown",
   "metadata": {},
   "source": [
    "### 상속"
   ]
  },
  {
   "cell_type": "code",
   "execution_count": 196,
   "metadata": {},
   "outputs": [
    {
     "name": "stdout",
     "output_type": "stream",
     "text": [
      "Korea\n",
      "This is Python\n"
     ]
    }
   ],
   "source": [
    "class School:\n",
    "    pass\n",
    "\n",
    "class Academy:\n",
    "    pass\n",
    "\n",
    "class Person:\n",
    "    \n",
    "    national = 'Korea'\n",
    "\n",
    "    def greeting(self):\n",
    "        return 'This is Python'\n",
    "\n",
    "class Student(School, Academy, Person):\n",
    "    # def greeting(self):\n",
    "    #     return 'Hello, world!'\n",
    "    pass\n",
    "\n",
    "student = Student()\n",
    "print(student.national)\n",
    "print(student.greeting())"
   ]
  },
  {
   "cell_type": "markdown",
   "metadata": {},
   "source": [
    "---\n",
    "\n",
    "### 실습"
   ]
  },
  {
   "cell_type": "code",
   "execution_count": 197,
   "metadata": {},
   "outputs": [],
   "source": [
    "class Person:\n",
    "    \n",
    "    def __init__(self, name, phone):\n",
    "\n",
    "        self.name = name\n",
    "        self.phone = phone\n",
    "    \n",
    "    def __str__(self):          # 객체 자체를 출력할 때 넘겨주는 형식을 지정해주는 메소드이다.\n",
    "        return f'<Person {self.name}, phone call {self.phone}>'"
   ]
  },
  {
   "cell_type": "code",
   "execution_count": 198,
   "metadata": {},
   "outputs": [],
   "source": [
    "class Student(Person):\n",
    "\n",
    "    def __init__(self, name, phone, job):\n",
    "        Person.__init__(self, name, phone)      # 상속 1: 부모 클래스 명으로 직접 호출\n",
    "        # super().__init__(name, phone)           # 상속 2: super()로 호출 (위에 거랑 중 하나만 호출)\n",
    "        self.job = job"
   ]
  },
  {
   "cell_type": "code",
   "execution_count": 199,
   "metadata": {},
   "outputs": [
    {
     "name": "stdout",
     "output_type": "stream",
     "text": [
      "홍길동\n",
      "010-2345-6789\n",
      "<Person 홍길동, phone call 010-2345-6789>\n"
     ]
    }
   ],
   "source": [
    "person_1 = Person('홍길동', '010-2345-6789')    # Person 클래스는 인스턴스 속성이 두 개이다.\n",
    "\n",
    "print(person_1.name)\n",
    "print(person_1.phone)\n",
    "print(person_1)"
   ]
  },
  {
   "cell_type": "code",
   "execution_count": 200,
   "metadata": {},
   "outputs": [
    {
     "name": "stdout",
     "output_type": "stream",
     "text": [
      "조이현 010-8958-7407 사축\n",
      "<Person 조이현, phone call 010-8958-7407>\n",
      "동길홍 010-2345-6789 도적\n",
      "<Person 동길홍, phone call 010-2345-6789>\n",
      "<Person 조이현, phone call 010-8958-7407>\n",
      "<Person 동길홍, phone call 010-2345-6789>\n"
     ]
    }
   ],
   "source": [
    "student_1 = Student('조이현', '010-8958-7407', '사축')\n",
    "student_2 = Student('동길홍', '010-2345-6789', '도적')\n",
    "\n",
    "print(student_1.name, student_1.phone, student_1.job)\n",
    "print(student_1)\n",
    "\n",
    "print(student_2.name, student_2.phone, student_2.job)\n",
    "print(student_2)\n",
    "\n",
    "print(Person.__str__(student_1))\n",
    "print(Student.__str__(student_2))"
   ]
  },
  {
   "cell_type": "markdown",
   "metadata": {},
   "source": [
    "---\n",
    "\n",
    "### 다중 상속과 오버라이딩"
   ]
  },
  {
   "cell_type": "code",
   "execution_count": 201,
   "metadata": {},
   "outputs": [],
   "source": [
    "class Person:\n",
    "\n",
    "    fingers = 10\n",
    "    eyes = 2\n",
    "\n",
    "    def introduce(self):\n",
    "        return '저는 사람입니다.'\n",
    "\n",
    "class Animal:\n",
    "\n",
    "    fur = True\n",
    "\n",
    "    def introduce(self):\n",
    "        return '저는 동물입니다.'\n",
    "\n",
    "class Half(Person, Animal):\n",
    "    pass"
   ]
  },
  {
   "cell_type": "code",
   "execution_count": 195,
   "metadata": {},
   "outputs": [
    {
     "name": "stdout",
     "output_type": "stream",
     "text": [
      "10 2 True\n",
      "저는 사람입니다.\n"
     ]
    }
   ],
   "source": [
    "half = Half()\n",
    "\n",
    "print(half.fingers, half.eyes, half.fur)\n",
    "print(half.introduce())                     # 메소드 호출시 왼쪽 클래스부터 호출한다."
   ]
  },
  {
   "cell_type": "code",
   "execution_count": 202,
   "metadata": {},
   "outputs": [],
   "source": [
    "class Animal:\n",
    "    \n",
    "    species = '동물'\n",
    "\n",
    "    def introduce(self):\n",
    "        print('동물의 왕국에 오신 겻을 환영합니다 :)')\n",
    "\n",
    "class Mammalia(Animal):\n",
    "    \n",
    "    species = '포유류'\n",
    "\n",
    "    def has_fur(self):\n",
    "        return True\n",
    "\n",
    "class Squirrel(Mammalia):\n",
    "    \n",
    "    name = '다람쥐'\n",
    "\n",
    "    def eat(self):\n",
    "        print('도토리는 정말 맛있어! 웅냠냠~')\n",
    "\n",
    "class SquirrelTeacher(Squirrel):\n",
    "\n",
    "    def introduce(self):\n",
    "        print('안녕하세요, 다람쥐 강사입니다~')"
   ]
  },
  {
   "cell_type": "code",
   "execution_count": 203,
   "metadata": {},
   "outputs": [
    {
     "name": "stdout",
     "output_type": "stream",
     "text": [
      "안녕하세요, 다람쥐 강사입니다~\n",
      "다람쥐\n",
      "도토리는 정말 맛있어! 웅냠냠~\n",
      "포유류\n",
      "True\n",
      "포유류\n",
      "안녕하세요, 다람쥐 강사입니다~\n"
     ]
    }
   ],
   "source": [
    "squirrel_teacher = SquirrelTeacher()\n",
    "\n",
    "squirrel_teacher.introduce()\n",
    "print(squirrel_teacher.name)\n",
    "squirrel_teacher.eat()\n",
    "\n",
    "print(squirrel_teacher.species)\n",
    "print(squirrel_teacher.has_fur())\n",
    "\n",
    "print(squirrel_teacher.species)\n",
    "squirrel_teacher.introduce()"
   ]
  },
  {
   "cell_type": "code",
   "execution_count": 204,
   "metadata": {},
   "outputs": [
    {
     "data": {
      "text/plain": [
       "(__main__.SquirrelTeacher,\n",
       " __main__.Squirrel,\n",
       " __main__.Mammalia,\n",
       " __main__.Animal,\n",
       " object)"
      ]
     },
     "execution_count": 204,
     "metadata": {},
     "output_type": "execute_result"
    }
   ],
   "source": [
    "SquirrelTeacher.__mro__             # method resolution order: 다중상속구조 파악"
   ]
  },
  {
   "cell_type": "markdown",
   "metadata": {},
   "source": [
    "---\n",
    "\n",
    "### 실습"
   ]
  },
  {
   "cell_type": "markdown",
   "metadata": {},
   "source": [
    "### 문제 1: **기본 상속을 활용한 클래스 생성**\n",
    "\n",
    "다람쥐는 이직을 준비하며 새로운 직업군을 탐색하고 있습니다. 다람쥐의 기본적인 정보를 담는 `Person` 클래스를 만들고, 이를 상속받는 `Candidate` 클래스를 생성하세요.\n",
    "\n",
    "1. `Person` 클래스:\n",
    "    - 클래스 속성 `national`은 \"Korea\"로 설정합니다.\n",
    "    - 메서드 `introduce`는 `\"안녕하세요, 저는 한국에서 왔습니다.\"`를 반환합니다.\n",
    "2. `Candidate` 클래스:\n",
    "    - `Person` 클래스를 상속받습니다.\n",
    "    - 생성자에서 이름(`name`)과 관심 분야(`field`)를 매개변수로 받아 저장합니다.\n",
    "    - 메서드 `introduce`를 오버라이드하여 `\"안녕하세요, 저는 [name]입니다. [field] 분야에 관심이 있습니다.\"`를 반환합니다."
   ]
  },
  {
   "cell_type": "code",
   "execution_count": 91,
   "metadata": {},
   "outputs": [],
   "source": [
    "class Person:\n",
    "\n",
    "    national = 'Korea'\n",
    "\n",
    "    def introduce(self):\n",
    "        return '안녕하세요, 저는 대한민국에서 왔습니다.'        \n",
    "\n",
    "class Candidate(Person):\n",
    "\n",
    "    def __init__(self, name, field):\n",
    "        self.name = name\n",
    "        self.field = field\n",
    "    \n",
    "    def introduce(self):\n",
    "        return f'안녕하세요, 저는 [{self.name}]입니다. [{self.field}] 분야에 관심이 있습니다.'"
   ]
  },
  {
   "cell_type": "code",
   "execution_count": 92,
   "metadata": {},
   "outputs": [
    {
     "name": "stdout",
     "output_type": "stream",
     "text": [
      "안녕하세요, 저는 대한민국에서 왔습니다.\n",
      "안녕하세요, 저는 [조이현]입니다. [잠자기] 분야에 관심이 있습니다.\n"
     ]
    }
   ],
   "source": [
    "person = Person()\n",
    "candidate = Candidate('조이현', '잠자기')\n",
    "\n",
    "print(person.introduce())\n",
    "print(candidate.introduce())"
   ]
  },
  {
   "cell_type": "markdown",
   "metadata": {},
   "source": [
    "### 문제 2: **다중 상속을 활용한 클래스 생성**\n",
    "\n",
    "다람쥐는 이직을 준비하며 여러 강사님들의 도움을 받고 있습니다. 강사의 역할을 분리한 클래스를 만들어 상속 구조를 테스트하세요.\n",
    "\n",
    "1. `Mentor` 클래스:\n",
    "    - 메서드 `guide`는 `\"이직 준비를 도와드립니다.\"`를 반환합니다.\n",
    "2. `Lecturer` 클래스:\n",
    "    - 메서드 `teach`는 `\"이직에 필요한 기술을 가르쳐드립니다.\"`를 반환합니다.\n",
    "3. `Coach` 클래스:\n",
    "    - `Mentor`와 `Lecturer` 클래스를 다중 상속받습니다.\n",
    "    - 메서드 `support`는 `\"여러 방면으로 지원을 아끼지 않겠습니다.\"`를 반환합니다."
   ]
  },
  {
   "cell_type": "code",
   "execution_count": 94,
   "metadata": {},
   "outputs": [],
   "source": [
    "class Mentor:\n",
    "\n",
    "    def guide(self):\n",
    "        return '이직 준비를 도와드립니다.'\n",
    "\n",
    "class Lecturer:\n",
    "\n",
    "    def teach(self):\n",
    "        return '이직에 필요한 기술을 가르쳐드립니다.'\n",
    "\n",
    "class Coach(Mentor, Lecturer):\n",
    "\n",
    "    def support(self):\n",
    "        return '여러 방면으로 지원을 아끼지 않겠읍니다.'"
   ]
  },
  {
   "cell_type": "code",
   "execution_count": 95,
   "metadata": {},
   "outputs": [
    {
     "name": "stdout",
     "output_type": "stream",
     "text": [
      "이직 준비를 도와드립니다.\n",
      "이직에 필요한 기술을 가르쳐드립니다.\n",
      "이직 준비를 도와드립니다.\n",
      "이직에 필요한 기술을 가르쳐드립니다.\n",
      "여러 방면으로 지원을 아끼지 않겠읍니다.\n"
     ]
    }
   ],
   "source": [
    "mentor = Mentor()\n",
    "lecturer = Lecturer()\n",
    "coach = Coach()\n",
    "\n",
    "print(mentor.guide())\n",
    "# print(mentor.teach())\n",
    "# print(mentor.support())\n",
    "\n",
    "# print(lecturer.guide())\n",
    "print(lecturer.teach())\n",
    "# print(lecturer.support())\n",
    "\n",
    "print(coach.guide())\n",
    "print(coach.teach())\n",
    "print(coach.support())"
   ]
  },
  {
   "cell_type": "markdown",
   "metadata": {},
   "source": [
    "### 문제 3: **부모 클래스 속성 오버라이딩**\n",
    "\n",
    "다람쥐는 이직 준비를 위해 개인적인 특성을 강조하고 있습니다. 부모 클래스의 메서드를 오버라이딩하여 각기 다른 인스턴스를 만들어보세요.\n",
    "\n",
    "1. `Person` 클래스:\n",
    "    - 속성 `name`과 `national`을 생성자로 받아 저장합니다.\n",
    "    - 메서드 `introduce`는 `\"안녕하세요, 저는 [name]입니다. 저는 [national]에서 왔습니다.\"`를 반환합니다.\n",
    "2. `Candidate` 클래스:\n",
    "    - `Person` 클래스를 상속받습니다.\n",
    "    - `introduce` 메서드를 오버라이드하여 `\"안녕하세요, 제 이름은 [name]이고, 이직 준비 중입니다.\"`를 반환합니다."
   ]
  },
  {
   "cell_type": "code",
   "execution_count": 124,
   "metadata": {},
   "outputs": [],
   "source": [
    "class Person:\n",
    "\n",
    "    def __init__(self, name, national):\n",
    "        self.name = name\n",
    "        self.national = national\n",
    "    \n",
    "    def introduce(self):\n",
    "        return f'안녕하세요, 저는 [{self.name}]입니다. 저는 [{self.national}]에서 왔읍니다.'\n",
    "\n",
    "class Candidate(Person):\n",
    "\n",
    "    def introduce(self):\n",
    "        return f'안녕하세요, 제 이름은 [{self.name}]이고, 이직 준비 중입니다.'"
   ]
  },
  {
   "cell_type": "code",
   "execution_count": 126,
   "metadata": {},
   "outputs": [
    {
     "name": "stdout",
     "output_type": "stream",
     "text": [
      "안녕하세요, 저는 [조이현]입니다. 저는 [대한민국]에서 왔읍니다.\n",
      "안녕하세요, 제 이름은 [조이보이]이고, 이직 준비 중입니다.\n"
     ]
    }
   ],
   "source": [
    "person = Person('조이현', '대한민국')\n",
    "candidate = Candidate('조이보이', '원피스')     # Person 클래스를 상속받기 때문에 모든 인스턴스 속성들을 다 입력해주어야 한다.\n",
    "\n",
    "print(person.introduce())\n",
    "print(candidate.introduce())"
   ]
  },
  {
   "cell_type": "markdown",
   "metadata": {},
   "source": [
    "### 문제 4: **상속의 특성 통합 테스트**\n",
    "\n",
    "다람쥐는 강사님들의 지도를 받으며 다양한 분야에서 경험을 쌓고 있습니다. 상속과 메서드 오버라이딩, 다중 상속을 종합적으로 테스트하세요.\n",
    "\n",
    "1. `Mentor` 클래스:\n",
    "    - 속성 `field`를 생성자로 받아 저장합니다.\n",
    "    - 메서드 `guide`는 `\"저는 [field] 분야의 멘토입니다.\"`를 반환합니다.\n",
    "2. `Lecturer` 클래스:\n",
    "    - 속성 `experience`를 생성자로 받아 저장합니다.\n",
    "    - 메서드 `teach`는 `\"저는 [experience]년의 강의 경력을 가지고 있습니다.\"`를 반환합니다.\n",
    "3. `Candidate` 클래스:\n",
    "    - `Mentor`와 `Lecturer` 클래스를 다중 상속받습니다.\n",
    "    - `guide` 메서드를 오버라이드하여 `\"저는 [field] 분야의 강사이며, 이직 준비를 도와드립니다.\"`를 반환합니다."
   ]
  },
  {
   "cell_type": "code",
   "execution_count": 134,
   "metadata": {},
   "outputs": [],
   "source": [
    "class Mentor:\n",
    "\n",
    "    def __init__(self, field):\n",
    "        self.field = field\n",
    "\n",
    "    def guide(self):\n",
    "        return f'저는 [{self.field}] 분야의 멘토입니다.'\n",
    "\n",
    "class Lecturer:\n",
    "\n",
    "    def __init__(self, experience):\n",
    "        self.experience = experience    \n",
    "\n",
    "    def teach(self):\n",
    "        return f'저는 [{self.experience}]년의 강의 경력을 가지고 있습니다.'\n",
    "\n",
    "class Candidate(Mentor, Lecturer):\n",
    "\n",
    "    def __init__(self, field, experience):\n",
    "        Mentor.__init__(self, field)\n",
    "        Lecturer.__init__(self, experience)\n",
    "\n",
    "    def guide(self):\n",
    "        return f'저는 [{self.field}] 분야의 강사이며, 이직 준비를 도와드립니다.'"
   ]
  },
  {
   "cell_type": "code",
   "execution_count": 139,
   "metadata": {},
   "outputs": [
    {
     "name": "stdout",
     "output_type": "stream",
     "text": [
      "저는 [잠자기] 분야의 멘토입니다.\n",
      "저는 [잠자기] 분야의 멘토입니다.\n",
      "저는 [12]년의 강의 경력을 가지고 있습니다.\n",
      "저는 [불장난] 분야의 강사이며, 이직 준비를 도와드립니다.\n",
      "저는 [불장난] 분야의 강사이며, 이직 준비를 도와드립니다.\n"
     ]
    }
   ],
   "source": [
    "mentor = Mentor('잠자기')\n",
    "lecturer = Lecturer(12)\n",
    "candidate = Candidate('불장난', 45)         # 두 클래스로부터 두 개의 인스턴스 속성을 물려받기 때문에 두 개를 입력해주어야 한다.\n",
    "\n",
    "print(mentor.guide())\n",
    "# print(mentor.teach())\n",
    "print(mentor.guide())\n",
    "\n",
    "# print(lecturer.guide())\n",
    "print(lecturer.teach())\n",
    "# print(lecturer.guide())\n",
    "\n",
    "print(candidate.guide())\n",
    "# print(candidate.teach())\n",
    "print(candidate.guide())"
   ]
  },
  {
   "cell_type": "code",
   "execution_count": null,
   "metadata": {},
   "outputs": [],
   "source": []
  }
 ],
 "metadata": {
  "kernelspec": {
   "display_name": "pystudy_env",
   "language": "python",
   "name": "python3"
  },
  "language_info": {
   "codemirror_mode": {
    "name": "ipython",
    "version": 3
   },
   "file_extension": ".py",
   "mimetype": "text/x-python",
   "name": "python",
   "nbconvert_exporter": "python",
   "pygments_lexer": "ipython3",
   "version": "3.12.8"
  }
 },
 "nbformat": 4,
 "nbformat_minor": 2
}
